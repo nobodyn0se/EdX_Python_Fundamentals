{
 "cells": [
  {
   "cell_type": "markdown",
   "metadata": {
    "collapsed": true
   },
   "source": [
    "# Using for loop for iterating strings"
   ]
  },
  {
   "cell_type": "code",
   "execution_count": 8,
   "metadata": {},
   "outputs": [
    {
     "name": "stdout",
     "output_type": "stream",
     "text": [
      "youtube to YouTube\n"
     ]
    }
   ],
   "source": [
    "word = \"youtube\"\n",
    "letter = \"\"\n",
    "for ltr in word:\n",
    "    if ltr.lower() == \"y\" or ltr.lower() == \"t\":\n",
    "        letter += ltr.upper()\n",
    "    else:\n",
    "        letter += ltr\n",
    "        \n",
    "print(word,\"to\",letter)"
   ]
  },
  {
   "cell_type": "code",
   "execution_count": 13,
   "metadata": {},
   "outputs": [
    {
     "name": "stdout",
     "output_type": "stream",
     "text": [
      "Enter first name po\n",
      "p\n",
      "\n",
      "o\n",
      "\n"
     ]
    }
   ],
   "source": [
    "first_name = input(\"Enter first name \")\n",
    "for letter in first_name:\n",
    "    print(letter,\"\\n\")"
   ]
  },
  {
   "cell_type": "code",
   "execution_count": 18,
   "metadata": {},
   "outputs": [
    {
     "name": "stdout",
     "output_type": "stream",
     "text": [
      "Enter first name brio\n",
      "brio to brIO\n"
     ]
    }
   ],
   "source": [
    "first_name = input(\"Enter first name \")\n",
    "new_name = \"\"\n",
    "for letter in first_name:\n",
    "    if letter.lower() == \"i\" or letter.lower() == \"o\":\n",
    "        new_name += letter.upper()\n",
    "    else:\n",
    "        new_name += letter\n",
    "print(first_name,\"to\",new_name)"
   ]
  },
  {
   "cell_type": "code",
   "execution_count": 20,
   "metadata": {},
   "outputs": [
    {
     "name": "stdout",
     "output_type": "stream",
     "text": [
      "juxtaposition\n"
     ]
    }
   ],
   "source": [
    "long_word = \"juxtaposition\"\n",
    "other_word = \"\"\n",
    "for letter in long_word:\n",
    "    other_word += letter\n",
    "print(other_word)    \n",
    "    "
   ]
  },
  {
   "cell_type": "code",
   "execution_count": 25,
   "metadata": {},
   "outputs": [
    {
     "name": "stdout",
     "output_type": "stream",
     "text": [
      "Enter your favorite color Red\n",
      "Red to deRRed\n"
     ]
    }
   ],
   "source": [
    "fav_color = input(\"Enter your favorite color \")\n",
    "empty = \"\" \n",
    "for letter in fav_color:\n",
    "    empty = fav_color[::-1] + fav_color\n",
    "print(fav_color,\"to\",empty)"
   ]
  }
 ],
 "metadata": {
  "kernelspec": {
   "display_name": "Python 3",
   "language": "python",
   "name": "python3"
  },
  "language_info": {
   "codemirror_mode": {
    "name": "ipython",
    "version": 3
   },
   "file_extension": ".py",
   "mimetype": "text/x-python",
   "name": "python",
   "nbconvert_exporter": "python",
   "pygments_lexer": "ipython3",
   "version": "3.5.4"
  }
 },
 "nbformat": 4,
 "nbformat_minor": 2
}
