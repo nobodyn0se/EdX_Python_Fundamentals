{
  "cells": [
    {
      "metadata": {
        "trusted": true
      },
      "cell_type": "code",
      "source": "import time\nrun = input(\"Start? > \")\nmins = 0\nn = input(\"How many minutes? > \")\n# Only run if the user types in \"start\"\nif run == \"start\":\n    # Loop until we reach 20 minutes running\n    while mins != n:\n        print (mins, end = \" minute(s) \\n\")\n        # Sleep for a minute\n        time.sleep(60)\n        # Increment the minute total\n        mins += 1\n    # Bring up the dialog box here\nprint(mins)",
      "execution_count": null,
      "outputs": [
        {
          "output_type": "stream",
          "name": "stdout",
          "text": "Start? > start\nHow many minutes? >40\n0 minute(s) \n1 minute(s) \n2 minute(s) \n3 minute(s) \n4 minute(s) \n5 minute(s) \n6 minute(s) \n7 minute(s) \n8 minute(s) \n9 minute(s) \n10 minute(s) \n11 minute(s) \n12 minute(s) \n13 minute(s) \n14 minute(s) \n15 minute(s) \n16 minute(s) \n17 minute(s) \n18 minute(s) \n19 minute(s) \n20 minute(s) \n21 minute(s) \n22 minute(s) \n23 minute(s) \n24 minute(s) \n25 minute(s) \n26 minute(s) \n27 minute(s) \n"
        }
      ]
    },
    {
      "metadata": {
        "trusted": false
      },
      "cell_type": "code",
      "source": "",
      "execution_count": null,
      "outputs": []
    }
  ],
  "metadata": {
    "kernelspec": {
      "name": "python3",
      "display_name": "Python 3",
      "language": "python"
    },
    "language_info": {
      "mimetype": "text/x-python",
      "nbconvert_exporter": "python",
      "name": "python",
      "file_extension": ".py",
      "version": "3.5.4",
      "pygments_lexer": "ipython3",
      "codemirror_mode": {
        "version": 3,
        "name": "ipython"
      }
    }
  },
  "nbformat": 4,
  "nbformat_minor": 2
}