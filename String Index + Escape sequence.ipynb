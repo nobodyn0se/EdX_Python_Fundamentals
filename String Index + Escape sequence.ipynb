{
 "cells": [
  {
   "cell_type": "code",
   "execution_count": 1,
   "metadata": {},
   "outputs": [
    {
     "name": "stdout",
     "output_type": "stream",
     "text": [
      "H\n",
      "u\n",
      "t\n"
     ]
    }
   ],
   "source": [
    "street_name = \"Houston\"\n",
    "print(street_name[0])\n",
    "print(street_name[2])\n",
    "print(street_name[4])"
   ]
  },
  {
   "cell_type": "code",
   "execution_count": 6,
   "metadata": {},
   "outputs": [
    {
     "name": "stdout",
     "output_type": "stream",
     "text": [
      "Enter a team with the  2nd letter 'i','o' or 'u' nUUttIngT0n\n",
      "The second letter of nUUttIngT0n is U\n"
     ]
    }
   ],
   "source": [
    "team_name = input(\"Enter a team with the  2nd letter 'i','o' or 'u' \")\n",
    "if team_name[1].lower() == \"i\":\n",
    "    print(\"The second letter of\",team_name,\"is\",team_name[1].lower())\n",
    "elif team_name[1].lower() == \"o\":\n",
    "    print(\"The second letter of\",team_name,\"is\",team_name[1].lower())\n",
    "elif team_name[1].lower() == \"u\":\n",
    "    print(\"The second letter of\",team_name,\"is\",team_name[1].lower())\n",
    "else:\n",
    "    print(\"The second letter of\",team_name,\"is not 'i','o' or 'u' \")"
   ]
  },
  {
   "cell_type": "code",
   "execution_count": 8,
   "metadata": {},
   "outputs": [
    {
     "name": "stdout",
     "output_type": "stream",
     "text": [
      "y\n",
      "d\n",
      "d\n"
     ]
    }
   ],
   "source": [
    "street_name = \"GrooveBuddy\"\n",
    "print(street_name[-1])\n",
    "print(street_name[-2])\n",
    "print(street_name[-3])"
   ]
  },
  {
   "cell_type": "code",
   "execution_count": 9,
   "metadata": {},
   "outputs": [
    {
     "name": "stdout",
     "output_type": "stream",
     "text": [
      "First letter is A\n",
      "Last letter is r\n"
     ]
    }
   ],
   "source": [
    "first_name = \"Alistair\"\n",
    "print(\"First letter is\",\"\" + first_name[0])\n",
    "print(\"Last letter is\",first_name[-1])"
   ]
  },
  {
   "cell_type": "code",
   "execution_count": 2,
   "metadata": {},
   "outputs": [
    {
     "name": "stdout",
     "output_type": "stream",
     "text": [
      "I can now print this line using escape sequences '\\n' \n"
     ]
    }
   ],
   "source": [
    "print(\"I can now print this line using escape sequences \\'\\\\n' \")"
   ]
  }
 ],
 "metadata": {
  "kernelspec": {
   "display_name": "Python 3",
   "language": "python",
   "name": "python3"
  },
  "language_info": {
   "codemirror_mode": {
    "name": "ipython",
    "version": 3
   },
   "file_extension": ".py",
   "mimetype": "text/x-python",
   "name": "python",
   "nbconvert_exporter": "python",
   "pygments_lexer": "ipython3",
   "version": "3.5.4"
  }
 },
 "nbformat": 4,
 "nbformat_minor": 2
}
