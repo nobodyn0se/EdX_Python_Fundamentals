{
 "cells": [
  {
   "cell_type": "markdown",
   "metadata": {
    "collapsed": true
   },
   "source": [
    "# Program to print words after G/g"
   ]
  },
  {
   "cell_type": "code",
   "execution_count": 20,
   "metadata": {},
   "outputs": [
    {
     "name": "stdout",
     "output_type": "stream",
     "text": [
      "Enter a quote What is shit \n",
      "Wh t is shit \n"
     ]
    }
   ],
   "source": [
    "word = input(\"Enter a quote \")\n",
    "empty = \"\"\n",
    "index = word.find(\" \")\n",
    "for letter in word:\n",
    "    if letter.lower() > \"g\":\n",
    "        empty += letter[:index] \n",
    "    else:\n",
    "        empty += \" \"\n",
    "print(empty)"
   ]
  },
  {
   "cell_type": "code",
   "execution_count": 10,
   "metadata": {},
   "outputs": [
    {
     "name": "stdout",
     "output_type": "stream",
     "text": [
      "Enter a quote Wheresoever you go, go with all your heart\n",
      "WHERESOEVER\n",
      "YOU\n",
      "WITH\n",
      "YOUR\n",
      "HEART\n"
     ]
    }
   ],
   "source": [
    "#This is the correct program\n",
    "q = input(\"Enter a quote \")\n",
    "word = \"\"\n",
    "for char in q:\n",
    "    if char.isalpha():\n",
    "        word += char\n",
    "    elif word.lower() >= \"h\":\n",
    "        print(word.upper())\n",
    "        word = \"\"\n",
    "    else:\n",
    "        word = \"\"\n",
    "print(word.upper())       "
   ]
  },
  {
   "cell_type": "code",
   "execution_count": null,
   "metadata": {},
   "outputs": [],
   "source": []
  }
 ],
 "metadata": {
  "kernelspec": {
   "display_name": "Python 3",
   "language": "python",
   "name": "python3"
  },
  "language_info": {
   "codemirror_mode": {
    "name": "ipython",
    "version": 3
   },
   "file_extension": ".py",
   "mimetype": "text/x-python",
   "name": "python",
   "nbconvert_exporter": "python",
   "pygments_lexer": "ipython3",
   "version": "3.5.4"
  }
 },
 "nbformat": 4,
 "nbformat_minor": 2
}
