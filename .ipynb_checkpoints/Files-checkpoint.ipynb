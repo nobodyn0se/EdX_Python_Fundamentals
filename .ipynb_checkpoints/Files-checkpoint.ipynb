{
 "cells": [
  {
   "cell_type": "markdown",
   "metadata": {
    "collapsed": true
   },
   "source": [
    "# Import Files into Jupyter"
   ]
  },
  {
   "cell_type": "code",
   "execution_count": 1,
   "metadata": {},
   "outputs": [
    {
     "name": "stdout",
     "output_type": "stream",
     "text": [
      "  % Total    % Received % Xferd  Average Speed   Time    Time     Time  Current\n",
      "                                 Dload  Upload   Total   Spent    Left  Speed\n",
      "100    56  100    56    0     0    224      0 --:--:-- --:--:-- --:--:--   224\n",
      "Loops I repeat\n",
      "loops\n",
      "loops\n",
      "loops\n",
      "I repeat\n",
      "until I\n",
      "break\n",
      "\n",
      "\n",
      "\n",
      "False\n"
     ]
    }
   ],
   "source": [
    "!curl https://raw.githubusercontent.com/MicrosoftLearning/intropython/master/poem1.txt -o poem1.txt\n",
    "\n",
    "\n",
    "poem_file = open(\"poem1.txt\", \"r\")\n",
    "content = poem_file.read()\n",
    "print(content)\n",
    "poem10 = poem_file.read(10)\n",
    "print(poem10)\n",
    "\n",
    "poem_part = poem_file.read(5).upper()\n",
    "print(poem_part)\n",
    "\n",
    "poem_bool = poem_file.read().isalpha()\n",
    "print(poem_bool)\n",
    "\n",
    "poem_file.close()"
   ]
  },
  {
   "cell_type": "code",
   "execution_count": 2,
   "metadata": {
    "scrolled": true
   },
   "outputs": [
    {
     "name": "stdout",
     "output_type": "stream",
     "text": [
      "  % Total    % Received % Xferd  Average Speed   Time    Time     Time  Current\n",
      "                                 Dload  Upload   Total   Spent    Left  Speed\n",
      "100    56  100    56    0     0    186      0 --:--:-- --:--:-- --:--:--   189\n",
      "Beijing\n",
      "Cairo\n",
      "London\n",
      "Nairobi\n",
      "New York City\n",
      "Sydney\n",
      "Tokyo\n",
      "\n",
      "\n",
      "\n"
     ]
    }
   ],
   "source": [
    "!curl https://raw.githubusercontent.com/MicrosoftLearning/intropython/master/cities -o cities.txt\n",
    "\n",
    "cities_file = open('cities.txt','r')\n",
    "\n",
    "cities_read = cities_file.read()\n",
    "print(cities_read)\n",
    "cities10 = cities_file.read(10)\n",
    "print(cities10)\n",
    "\n",
    "cpart = cities_file.read(6).upper()\n",
    "print(cpart)\n",
    "\n",
    "cities_file.close()"
   ]
  },
  {
   "cell_type": "code",
   "execution_count": 3,
   "metadata": {},
   "outputs": [
    {
     "name": "stdout",
     "output_type": "stream",
     "text": [
      "  % Total    % Received % Xferd  Average Speed   Time    Time     Time  Current\n",
      "                                 Dload  Upload   Total   Spent    Left  Speed\n",
      "100   303  100   303    0     0   1016      0 --:--:-- --:--:-- --:--:--  1052\n",
      "3.14\n",
      "3.141592\n"
     ]
    }
   ],
   "source": [
    "!curl  https://raw.githubusercontent.com/MicrosoftLearning/intropython/master/digits_of_pi -o dop.txt\n",
    "\n",
    "dopen = open('dop.txt','r')\n",
    "pi_digits = dopen.read(4) \n",
    "print(pi_digits)\n",
    "\n",
    "\n",
    "pi_digits += dopen.read(4)\n",
    "print(pi_digits)\n",
    "\n",
    "dopen.close()"
   ]
  },
  {
   "cell_type": "code",
   "execution_count": 35,
   "metadata": {},
   "outputs": [
    {
     "name": "stdout",
     "output_type": "stream",
     "text": [
      "\n"
     ]
    }
   ],
   "source": []
  },
  {
   "cell_type": "code",
   "execution_count": null,
   "metadata": {},
   "outputs": [],
   "source": []
  }
 ],
 "metadata": {
  "kernelspec": {
   "display_name": "Python 3",
   "language": "python",
   "name": "python3"
  },
  "language_info": {
   "codemirror_mode": {
    "name": "ipython",
    "version": 3
   },
   "file_extension": ".py",
   "mimetype": "text/x-python",
   "name": "python",
   "nbconvert_exporter": "python",
   "pygments_lexer": "ipython3",
   "version": "3.5.4"
  }
 },
 "nbformat": 4,
 "nbformat_minor": 2
}
