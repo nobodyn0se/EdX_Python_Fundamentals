{
 "cells": [
  {
   "cell_type": "code",
   "execution_count": 8,
   "metadata": {},
   "outputs": [
    {
     "name": "stdout",
     "output_type": "stream",
     "text": [
      "Start? > start\n",
      "0 minute(s) \n",
      "1 minute(s) \n",
      "2 minute(s) \n",
      "3 minute(s) \n",
      "4 minute(s) \n",
      "5 minute(s) \n",
      "6 minute(s) \n",
      "7 minute(s) \n",
      "8 minute(s) \n",
      "9 minute(s) \n",
      "10 minute(s) \n",
      "11 minute(s) \n",
      "12 minute(s) \n",
      "13 minute(s) \n",
      "14 minute(s) \n",
      "15 minute(s) \n",
      "16 minute(s) \n",
      "17\n"
     ]
    }
   ],
   "source": [
    "import time\n",
    "run = input(\"Start? > \")\n",
    "mins = 0\n",
    "# Only run if the user types in \"start\"\n",
    "if run == \"start\":\n",
    "    # Loop until we reach 20 minutes running\n",
    "    while mins != 17:\n",
    "        print (mins, end = \" minute(s) \\n\")\n",
    "        # Sleep for a minute\n",
    "        time.sleep(60)\n",
    "        # Increment the minute total\n",
    "        mins += 1\n",
    "    # Bring up the dialog box here\n",
    "print(mins)"
   ]
  },
  {
   "cell_type": "code",
   "execution_count": null,
   "metadata": {},
   "outputs": [],
   "source": []
  }
 ],
 "metadata": {
  "kernelspec": {
   "display_name": "Python 3",
   "language": "python",
   "name": "python3"
  },
  "language_info": {
   "codemirror_mode": {
    "name": "ipython",
    "version": 3
   },
   "file_extension": ".py",
   "mimetype": "text/x-python",
   "name": "python",
   "nbconvert_exporter": "python",
   "pygments_lexer": "ipython3",
   "version": "3.5.4"
  }
 },
 "nbformat": 4,
 "nbformat_minor": 2
}
