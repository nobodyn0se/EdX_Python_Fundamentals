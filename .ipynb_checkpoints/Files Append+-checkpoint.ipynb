{
 "cells": [
  {
   "cell_type": "code",
   "execution_count": 4,
   "metadata": {},
   "outputs": [],
   "source": [
    "logFile = open(\"logFile.txt\", \"w\")\n",
    "logFile.close()\n",
    "logFile = open(\"logFile.txt\", \"a+\")"
   ]
  },
  {
   "cell_type": "code",
   "execution_count": 5,
   "metadata": {},
   "outputs": [],
   "source": [
    "def logger(log):\n",
    "    log_entry = input(\"enter log item (enter to quit): \")\n",
    "    count = 0\n",
    "\n",
    "    while log_entry:\n",
    "        count += 1\n",
    "        log.write(str(count) + \": \" + log_entry + \"\\n\")\n",
    "        log_entry = input(\"enter log item (enter to quit): \")\n",
    "        \n",
    "    return count"
   ]
  },
  {
   "cell_type": "code",
   "execution_count": 6,
   "metadata": {},
   "outputs": [
    {
     "name": "stdout",
     "output_type": "stream",
     "text": [
      "enter log item (enter to quit): panda\n",
      "enter log item (enter to quit): python\n",
      "enter log item (enter to quit): shark\n",
      "enter log item (enter to quit): robin\n",
      "enter log item (enter to quit): rhino\n",
      "enter log item (enter to quit): catfish\n",
      "enter log item (enter to quit): \n",
      "\n",
      "Number of logs entered 6 \n",
      "\n",
      "1: panda\n",
      "2: python\n",
      "3: shark\n",
      "4: robin\n",
      "5: rhino\n",
      "6: catfish\n",
      "\n"
     ]
    }
   ],
   "source": [
    "numLogs = logger(logFile)\n",
    "logFile.seek(0)\n",
    "logText = logFile.read()\n",
    "print(\"\\nNumber of logs entered\",numLogs,\"\\n\")\n",
    "print(logText)\n",
    "logFile.close()"
   ]
  },
  {
   "cell_type": "code",
   "execution_count": null,
   "metadata": {},
   "outputs": [],
   "source": []
  }
 ],
 "metadata": {
  "kernelspec": {
   "display_name": "Python 3",
   "language": "python",
   "name": "python3"
  },
  "language_info": {
   "codemirror_mode": {
    "name": "ipython",
    "version": 3
   },
   "file_extension": ".py",
   "mimetype": "text/x-python",
   "name": "python",
   "nbconvert_exporter": "python",
   "pygments_lexer": "ipython3",
   "version": "3.5.4"
  }
 },
 "nbformat": 4,
 "nbformat_minor": 2
}
