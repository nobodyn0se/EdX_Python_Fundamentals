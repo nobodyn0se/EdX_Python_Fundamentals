{
 "cells": [
  {
   "cell_type": "code",
   "execution_count": 27,
   "metadata": {},
   "outputs": [
    {
     "name": "stdout",
     "output_type": "stream",
     "text": [
      "  % Total    % Received % Xferd  Average Speed   Time    Time     Time  Current\n",
      "                                 Dload  Upload   Total   Spent    Left  Speed\n",
      "100    56  100    56    0     0    178      0 --:--:-- --:--:-- --:--:--   179\n",
      "['Loops I repeat\\n', 'loops\\n', 'loops\\n', 'loops\\n', 'I repeat\\n', 'until I\\n', 'break\\n']\n",
      "\n",
      "Loops I repeat\n",
      "loops\n",
      "loops\n",
      "loops\n",
      "I repeat\n",
      "until I\n",
      "break\n"
     ]
    }
   ],
   "source": [
    "!curl https://raw.githubusercontent.com/MicrosoftLearning/intropython/master/poem1.txt -o poem1.txt\n",
    "poem1 = open('poem1.txt', 'r')\n",
    "poem_lines = poem1.readlines()\n",
    "print(poem_lines)\n",
    "\n",
    "for line in poem_lines:\n",
    "    print(line,end = \"\")\n",
    "\n",
    "poem1.close()"
   ]
  },
  {
   "cell_type": "code",
   "execution_count": 17,
   "metadata": {},
   "outputs": [
    {
     "name": "stdout",
     "output_type": "stream",
     "text": [
      "['Beijing\\n', 'Cairo\\n', 'London\\n', 'Nairobi\\n', 'New York City\\n', 'Sydney\\n', 'Tokyo\\n']\n",
      "Beijin\n",
      "['Beijing\\n', 'Cairo\\n', 'London\\n', 'Nairobi\\n', 'New York City\\n', 'Sydney\\n', 'Tokyo\\n']\n",
      "['Beijing', 'Cairo', 'London', 'Nairobi', 'New York City', 'Sydney', 'Tokyo']\n",
      "Beijing\n",
      "Cairo\n",
      "London\n",
      "Nairobi\n",
      "New York City\n",
      "Sydney\n",
      "Tokyo\n"
     ]
    }
   ],
   "source": [
    "cities_file = open('cities.txt', 'r')\n",
    "cities_lines = cities_file.readlines()\n",
    "print(cities_lines)\n",
    "\n",
    "cities_file = open('cities.txt', 'r')\n",
    "cr = cities_file.read(6)\n",
    "print(cr)\n",
    "\n",
    "cities_file = open('cities.txt', 'r')\n",
    "rlist = cities_file.readlines()\n",
    "print(rlist)\n",
    "\n",
    "cities_file = open('cities.txt', 'r')\n",
    "cr2 = cities_file.readlines()\n",
    "count = 0\n",
    "for line in cr2:\n",
    "    cr2[count] = line[:-1]\n",
    "    count += 1\n",
    "\n",
    "print(cr2)\n",
    "\n",
    "for line in cr2:\n",
    "    print(line)\n",
    "    \n",
    "cities_file.close()"
   ]
  },
  {
   "cell_type": "code",
   "execution_count": 18,
   "metadata": {},
   "outputs": [
    {
     "name": "stdout",
     "output_type": "stream",
     "text": [
      "['Beijing\\n', 'Cairo\\n', 'London\\n', 'Nairobi\\n', 'New York City\\n', 'Sydney\\n', 'Tokyo\\n']\n",
      "['Beijing', 'Cairo', 'London', 'Nairobi', 'New York City', 'Sydney', 'Tokyo']\n",
      "London\n",
      "Nairobi\n",
      "New York City\n",
      "Sydney\n",
      "Tokyo\n"
     ]
    }
   ],
   "source": [
    "copen = open('cities.txt', 'r')\n",
    "clist = copen.readlines()\n",
    "print(clist)\n",
    "\n",
    "count = 0\n",
    "for line in clist:\n",
    "    clist[count] = line[:-1]\n",
    "    count += 1\n",
    "print(clist)\n",
    "\n",
    "for line in clist:\n",
    "    if line[0].upper() > \"D\":\n",
    "        print(line)\n",
    "    else:\n",
    "        pass\n",
    "    \n",
    "cities_file.close()"
   ]
  },
  {
   "cell_type": "code",
   "execution_count": 37,
   "metadata": {
    "scrolled": true
   },
   "outputs": [
    {
     "name": "stdout",
     "output_type": "stream",
     "text": [
      "  % Total    % Received % Xferd  Average Speed   Time    Time     Time  Current\n",
      "                                 Dload  Upload   Total   Spent    Left  Speed\n",
      "100    57  100    57    0     0    199      0 --:--:-- --:--:-- --:--:--   204\n",
      "['while True\\n', 'I loop\\n', 'True\\n', 'loop\\n', 'True\\n', 'loop\\n', 'not True\\n', 'False\\n', 'end\\n']\n",
      "['while True', 'I loop', 'True', 'loop', 'True', 'loop', 'not True', 'False', 'end']\n",
      "['end', 'False', 'not True', 'loop', 'True', 'loop', 'True', 'I loop', 'while True']\n"
     ]
    }
   ],
   "source": [
    "!curl https://raw.githubusercontent.com/MicrosoftLearning/intropython/master/poem2.txt -o poem2.txt\n",
    "\n",
    "poem2_file = open('poem2.txt', 'r')\n",
    "poem2_read = poem2_file.readlines()\n",
    "print(poem2_read)\n",
    "\n",
    "count = 0\n",
    "for word in poem2_read:\n",
    "    poem2_read[count] = word[:-1]\n",
    "    count += 1\n",
    "    \n",
    "k = poem2_read\n",
    "print(k)\n",
    "k.reverse()\n",
    "print(k) # or use print(k[::-1])\n",
    "\n",
    "poem2_file.close()"
   ]
  },
  {
   "cell_type": "code",
   "execution_count": 39,
   "metadata": {},
   "outputs": [
    {
     "ename": "ValueError",
     "evalue": "I/O operation on closed file.",
     "output_type": "error",
     "traceback": [
      "\u001b[0;31m---------------------------------------------------------------------------\u001b[0m",
      "\u001b[0;31mValueError\u001b[0m                                Traceback (most recent call last)",
      "\u001b[0;32m<ipython-input-39-c56bbcd1509d>\u001b[0m in \u001b[0;36m<module>\u001b[0;34m()\u001b[0m\n\u001b[0;32m----> 1\u001b[0;31m \u001b[0mpoem2_file\u001b[0m\u001b[0;34m.\u001b[0m\u001b[0mread\u001b[0m\u001b[0;34m(\u001b[0m\u001b[0;34m)\u001b[0m\u001b[0;34m\u001b[0m\u001b[0m\n\u001b[0m",
      "\u001b[0;31mValueError\u001b[0m: I/O operation on closed file."
     ]
    }
   ],
   "source": [
    "poem2_file.read() #File is closed. Verified!"
   ]
  },
  {
   "cell_type": "code",
   "execution_count": null,
   "metadata": {},
   "outputs": [],
   "source": []
  }
 ],
 "metadata": {
  "kernelspec": {
   "display_name": "Python 3",
   "language": "python",
   "name": "python3"
  },
  "language_info": {
   "codemirror_mode": {
    "name": "ipython",
    "version": 3
   },
   "file_extension": ".py",
   "mimetype": "text/x-python",
   "name": "python",
   "nbconvert_exporter": "python",
   "pygments_lexer": "ipython3",
   "version": "3.5.4"
  }
 },
 "nbformat": 4,
 "nbformat_minor": 2
}
