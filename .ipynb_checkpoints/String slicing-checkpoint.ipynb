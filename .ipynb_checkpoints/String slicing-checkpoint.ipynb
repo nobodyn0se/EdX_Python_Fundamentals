{
 "cells": [
  {
   "cell_type": "code",
   "execution_count": 3,
   "metadata": {},
   "outputs": [
    {
     "name": "stdout",
     "output_type": "stream",
     "text": [
      "act\n",
      "tic\n"
     ]
    }
   ],
   "source": [
    "long_word = \"characteristics\"\n",
    "print(long_word[4:7])\n",
    "print(long_word[11:14])"
   ]
  },
  {
   "cell_type": "code",
   "execution_count": 5,
   "metadata": {},
   "outputs": [
    {
     "name": "stdout",
     "output_type": "stream",
     "text": [
      "sequence\n"
     ]
    }
   ],
   "source": [
    "word = \"consequences\"\n",
    "print(word[3:11])"
   ]
  },
  {
   "cell_type": "code",
   "execution_count": 12,
   "metadata": {},
   "outputs": [
    {
     "name": "stdout",
     "output_type": "stream",
     "text": [
      "conseq\n",
      "there is no parking on c street\n",
      "there is no parking on e street\n"
     ]
    }
   ],
   "source": [
    "print(word[:6])\n",
    "print(\"there is no parking on\",word[0],\"street\")\n",
    "print(\"there is no parking on\",word[4],\"street\")"
   ]
  },
  {
   "cell_type": "code",
   "execution_count": 14,
   "metadata": {},
   "outputs": [
    {
     "name": "stdout",
     "output_type": "stream",
     "text": [
      "uences\n"
     ]
    }
   ],
   "source": [
    "print(word[6:])"
   ]
  },
  {
   "cell_type": "code",
   "execution_count": 24,
   "metadata": {},
   "outputs": [
    {
     "name": "stdout",
     "output_type": "stream",
     "text": [
      "Akoldeet\n",
      "knowledgement\n",
      "koldeet\n"
     ]
    }
   ],
   "source": [
    "word1 = \"Acknowledgement\"\n",
    "print(word1[::2])\n",
    "print(word1[2:])\n",
    "print(word1[2::2])"
   ]
  },
  {
   "cell_type": "code",
   "execution_count": 37,
   "metadata": {},
   "outputs": [
    {
     "name": "stdout",
     "output_type": "stream",
     "text": [
      "desserts\n",
      "char\n",
      "rahc\n",
      "scit\n",
      "etca\n"
     ]
    }
   ],
   "source": [
    "word = \"stressed\"\n",
    "print(word[::-1])\n",
    "word = \"characteristics\"\n",
    "print(word[:4])\n",
    "print(word[3::-1])\n",
    "print(word[-1:-5:-1])\n",
    "print(word[7:3:-1])"
   ]
  }
 ],
 "metadata": {
  "kernelspec": {
   "display_name": "Python 3",
   "language": "python",
   "name": "python3"
  },
  "language_info": {
   "codemirror_mode": {
    "name": "ipython",
    "version": 3
   },
   "file_extension": ".py",
   "mimetype": "text/x-python",
   "name": "python",
   "nbconvert_exporter": "python",
   "pygments_lexer": "ipython3",
   "version": "3.5.4"
  }
 },
 "nbformat": 4,
 "nbformat_minor": 2
}
