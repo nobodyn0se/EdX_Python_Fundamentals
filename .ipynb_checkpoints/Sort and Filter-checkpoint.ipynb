{
 "cells": [
  {
   "cell_type": "code",
   "execution_count": 2,
   "metadata": {},
   "outputs": [
    {
     "name": "stdout",
     "output_type": "stream",
     "text": [
      "\n",
      "calcaneus\n",
      "talus\n",
      "cuboid\n",
      "navicular\n",
      "\n",
      "lateral cuneiform\n",
      "intermediate cuneiform\n",
      "medial cuneiform\n"
     ]
    }
   ],
   "source": [
    "# [ ] review and run example of sorting into strings to display\n",
    "foot_bones = [\"calcaneus\", \"talus\", \"cuboid\", \"navicular\", \"lateral cuneiform\", \n",
    "            \"intermediate cuneiform\", \"medial cuneiform\"]\n",
    "longer_names = \"\"\n",
    "shorter_names = \"\"\n",
    "\n",
    "for bone_name in foot_bones:\n",
    "    if len(bone_name) < 10:\n",
    "        shorter_names += \"\\n\" + bone_name\n",
    "    else:\n",
    "        longer_names += \"\\n\" + bone_name\n",
    "\n",
    "print(shorter_names)\n",
    "print(longer_names)\n"
   ]
  },
  {
   "cell_type": "code",
   "execution_count": 3,
   "metadata": {},
   "outputs": [
    {
     "name": "stdout",
     "output_type": "stream",
     "text": [
      "['calcaneus', 'talus', 'cuboid', 'navicular']\n",
      "['lateral cuneiform', 'intermediate cuneiform', 'medial cuneiform']\n"
     ]
    }
   ],
   "source": [
    "# [ ] review and run example of sorting into lists\n",
    "foot_bones = [\"calcaneus\", \"talus\", \"cuboid\", \"navicular\", \"lateral cuneiform\", \n",
    "            \"intermediate cuneiform\", \"medial cuneiform\"]\n",
    "longer_names = []\n",
    "shorter_names = []\n",
    "\n",
    "for bone_name in foot_bones:\n",
    "    if len(bone_name) < 10:\n",
    "        shorter_names.append(bone_name)\n",
    "    else:\n",
    "        longer_names.append(bone_name)\n",
    "\n",
    "print(shorter_names)\n",
    "print(longer_names)"
   ]
  },
  {
   "cell_type": "code",
   "execution_count": 23,
   "metadata": {},
   "outputs": [
    {
     "name": "stdout",
     "output_type": "stream",
     "text": [
      "Cities that start with an 'm'\n",
      "Mumbai\n",
      "Manila\n",
      "Montreal\n",
      "Massachussetts\n",
      "Mississippi\n",
      "Montgomery\n",
      "Milwaukee\n"
     ]
    }
   ],
   "source": [
    "cities = [\"Mumbai\",\"Manila\",\"Montreal\",\"Shanghai\",\"Massachussetts\",\"Mississippi\",\"Montgomery\",\"Milwaukee\",\"Vancouver\",\"Seoul\",\"Beirut\"]\n",
    "print(\"Cities that start with an 'm'\")\n",
    "for word in cities:\n",
    "    if word.lower().startswith(\"m\"):\n",
    "        print(word)\n",
    "    else:\n",
    "        pass\n",
    "   "
   ]
  },
  {
   "cell_type": "code",
   "execution_count": 20,
   "metadata": {},
   "outputs": [
    {
     "name": "stdout",
     "output_type": "stream",
     "text": [
      "Cities with an 'a' in their name\n",
      "Mumbai Manila Montreal Shanghai Massachussetts Milwaukee Vancouver \n",
      "Cities with no 'a's in their name\n",
      "Mississippi Montgomery Seoul Beirut \n"
     ]
    }
   ],
   "source": [
    "a_name = \"\"\n",
    "a_no_name = \"\"\n",
    "for word in cities:\n",
    "    if word.find(\"a\") > 0:\n",
    "        a_name += word + \" \"  \n",
    "    else:\n",
    "        a_no_name += word + \" \"\n",
    "print(\"Cities with an 'a' in their name\")\n",
    "print(a_name)\n",
    "print(\"Cities with no 'a's in their name\")\n",
    "print(a_no_name)\n"
   ]
  },
  {
   "cell_type": "code",
   "execution_count": null,
   "metadata": {},
   "outputs": [],
   "source": []
  }
 ],
 "metadata": {
  "kernelspec": {
   "display_name": "Python 3",
   "language": "python",
   "name": "python3"
  },
  "language_info": {
   "codemirror_mode": {
    "name": "ipython",
    "version": 3
   },
   "file_extension": ".py",
   "mimetype": "text/x-python",
   "name": "python",
   "nbconvert_exporter": "python",
   "pygments_lexer": "ipython3",
   "version": "3.5.4"
  }
 },
 "nbformat": 4,
 "nbformat_minor": 2
}
