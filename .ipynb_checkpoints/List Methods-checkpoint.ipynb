{
 "cells": [
  {
   "cell_type": "code",
   "execution_count": 6,
   "metadata": {},
   "outputs": [
    {
     "name": "stdout",
     "output_type": "stream",
     "text": [
      "List before is [5, 2, 3]\n",
      "List after is ['big', 2, 3]\n"
     ]
    }
   ],
   "source": [
    "three_num = [5,2,3]\n",
    "print(\"List before is\",three_num)\n",
    "if three_num[0] < 5:\n",
    "    three_num[0] = \"small\"\n",
    "else:\n",
    "    three_num[0] = \"big\"\n",
    "print(\"List after is\",three_num)"
   ]
  },
  {
   "cell_type": "code",
   "execution_count": 8,
   "metadata": {},
   "outputs": [
    {
     "name": "stdout",
     "output_type": "stream",
     "text": [
      "['Hello', 'title', 'NutJobPiss']\n",
      "['HELLO', 'title', 'nUTjOBpISS']\n"
     ]
    }
   ],
   "source": [
    "three_words = [\"Hello\",\"title\",\"NutJobPiss\"]\n",
    "print(three_words)\n",
    "three_words[0] = three_words[0].upper()\n",
    "three_words[2] = three_words[2].swapcase()\n",
    "print(three_words)"
   ]
  }
 ],
 "metadata": {
  "kernelspec": {
   "display_name": "Python 3",
   "language": "python",
   "name": "python3"
  },
  "language_info": {
   "codemirror_mode": {
    "name": "ipython",
    "version": 3
   },
   "file_extension": ".py",
   "mimetype": "text/x-python",
   "name": "python",
   "nbconvert_exporter": "python",
   "pygments_lexer": "ipython3",
   "version": "3.5.4"
  }
 },
 "nbformat": 4,
 "nbformat_minor": 2
}
