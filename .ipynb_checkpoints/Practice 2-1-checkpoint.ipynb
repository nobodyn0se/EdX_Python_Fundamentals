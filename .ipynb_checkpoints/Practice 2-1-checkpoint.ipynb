{
 "cells": [
  {
   "cell_type": "code",
   "execution_count": 6,
   "metadata": {},
   "outputs": [
    {
     "name": "stdout",
     "output_type": "stream",
     "text": [
      "Second letter is : \n",
      "u\n",
      "First letter is : \n",
      "J\n",
      "Last character is : \n",
      "r\n",
      "1st char using negative index \n",
      "J\n"
     ]
    }
   ],
   "source": [
    "planet_name = \"Jupiter\"\n",
    "print(\"Second letter is : \\n\"+ planet_name[1])\n",
    "print(\"First letter is : \\n\" + planet_name[0])\n",
    "print(\"Last character is : \\n\" + planet_name[-1])\n",
    "print(\"1st char using negative index \\n\" + planet_name[-7])"
   ]
  },
  {
   "cell_type": "code",
   "execution_count": 10,
   "metadata": {},
   "outputs": [
    {
     "name": "stdout",
     "output_type": "stream",
     "text": [
      "First 3 char\n",
      "Nep\n",
      "Remaining char \n",
      "tune\n"
     ]
    }
   ],
   "source": [
    "planet_name = \"Neptune\"\n",
    "print(\"First 3 char\\n\" + planet_name[0:3])\n",
    "print(\"Remaining char \\n\" + planet_name[3:])"
   ]
  },
  {
   "cell_type": "code",
   "execution_count": 13,
   "metadata": {},
   "outputs": [
    {
     "name": "stdout",
     "output_type": "stream",
     "text": [
      "Pa twooes\n",
      "enutpeN\n"
     ]
    }
   ],
   "source": [
    "wise_words = 'Play it who opens'\n",
    "print(wise_words[0::2])\n",
    "print(planet_name[::-1])"
   ]
  },
  {
   "cell_type": "code",
   "execution_count": 20,
   "metadata": {},
   "outputs": [
    {
     "name": "stdout",
     "output_type": "stream",
     "text": [
      "Enter your favorite food ABC\n",
      "A\n",
      "B\n",
      "C\n",
      "\n"
     ]
    }
   ],
   "source": [
    "fav_food = input(\"Enter your favorite food \")\n",
    "empty = \"\" \n",
    "for letter in fav_food:\n",
    "    empty += letter + \"\\n\"\n",
    "print(empty)"
   ]
  },
  {
   "cell_type": "code",
   "execution_count": 24,
   "metadata": {},
   "outputs": [
    {
     "name": "stdout",
     "output_type": "stream",
     "text": [
      "Enter your favorite food porn\n",
      "n\n",
      "r\n",
      "o\n",
      "p\n",
      "\n"
     ]
    }
   ],
   "source": [
    "#Program to print each char on a new line in reverse\n",
    "fav_food = input(\"Enter your favorite food \")\n",
    "empty = \"\" \n",
    "for letter in fav_food[::-1]:\n",
    "    empty += letter + \"\\n\"\n",
    "print(empty)"
   ]
  },
  {
   "cell_type": "code",
   "execution_count": 25,
   "metadata": {},
   "outputs": [
    {
     "name": "stdout",
     "output_type": "stream",
     "text": [
      "G-o-o-d- -c-o-d-e- -i-s- -c-o-m-m-e-n-t-e-d- -c-o-d-e-\n"
     ]
    }
   ],
   "source": [
    "#Concatenate string to a new one using '-' instead of a <space>\n",
    "work_tip = \"Good code is commented code\"\n",
    "new_string = \"\" \n",
    "for letter in work_tip:\n",
    "    new_string += letter + \"-\"\n",
    "print(new_string)\n"
   ]
  },
  {
   "cell_type": "code",
   "execution_count": 29,
   "metadata": {},
   "outputs": [
    {
     "name": "stdout",
     "output_type": "stream",
     "text": [
      "H\n",
      "i\n",
      "r\n",
      "o\n",
      "\n",
      "iroto\n"
     ]
    }
   ],
   "source": [
    "#Print 1st four chracters on a new line\n",
    "name = \"Hiroto\"\n",
    "empty = \"\"\n",
    "for letter in name[0:4]:\n",
    "    empty += letter + \"\\n\"\n",
    "print(empty)\n",
    "\n",
    "name = \"Hiroto\"\n",
    "print(name[1:])"
   ]
  },
  {
   "cell_type": "code",
   "execution_count": 31,
   "metadata": {},
   "outputs": [
    {
     "name": "stdout",
     "output_type": "stream",
     "text": [
      "Enter your first name Preeti \n",
      " i???rP\n"
     ]
    }
   ],
   "source": [
    "#Program MYSTERY NAME\n",
    "first_name = input(\"Enter your first name \")\n",
    "new_name = \"\"\n",
    "for letter in first_name[::-1]:\n",
    "    if letter.lower() == \"e\":\n",
    "        letter = \"?\"\n",
    "        new_name += letter \n",
    "    elif letter.lower() == \"t\":\n",
    "        letter = \"?\"\n",
    "        new_name += letter \n",
    "    elif letter.lower() == \"a\":\n",
    "        letter = \"?\"\n",
    "        new_name += letter \n",
    "    else:\n",
    "        new_name += letter \n",
    "print(new_name)"
   ]
  },
  {
   "cell_type": "code",
   "execution_count": 34,
   "metadata": {},
   "outputs": [
    {
     "name": "stdout",
     "output_type": "stream",
     "text": [
      "Length of the string is 5\n",
      "2\n"
     ]
    }
   ],
   "source": [
    "string = \"topic\"\n",
    "print(\"Length of the string is\",len(string))\n",
    "mid_pt = int(len(string)/2)\n",
    "print(mid_pt)"
   ]
  },
  {
   "cell_type": "code",
   "execution_count": 38,
   "metadata": {},
   "outputs": [
    {
     "name": "stdout",
     "output_type": "stream",
     "text": [
      "Index of 1st instance of 'code' is : 5\n",
      "'code' is found at: 23\n"
     ]
    }
   ],
   "source": [
    "#Print index where first instance of 'code' appears\n",
    "work_tip = \"Good code is commented code\"\n",
    "result = work_tip.find(\"code\")\n",
    "print(\"Index of 1st instance of 'code' is :\",result)\n",
    "code_tip = work_tip.find(\"code\",13)\n",
    "if code_tip == -1:\n",
    "    print(\"'code' is not found\")\n",
    "else:\n",
    "    print(\"'code' is found at:\",code_tip)"
   ]
  },
  {
   "cell_type": "code",
   "execution_count": 44,
   "metadata": {},
   "outputs": [
    {
     "name": "stdout",
     "output_type": "stream",
     "text": [
      "'i's appear (times) 1\n",
      "'i' at index 10\n"
     ]
    }
   ],
   "source": [
    "#Print number of times the letter 'i' appears in a string\n",
    "work_tip = \"Good code is commented code\"\n",
    "counter = work_tip.count(\"i\")\n",
    "if counter != 0:\n",
    "    print(\"'i's appear (times)\",counter)\n",
    "else:\n",
    "    print(\"No 'i's found\")\n",
    "#Indices of all 'i's\n",
    "location = work_tip.find(\"i\")\n",
    "while location >= 0:\n",
    "    print(\"'i' at index\",location)\n",
    "    location = work_tip.find(\"i\",location + 1)\n",
    "    "
   ]
  },
  {
   "cell_type": "code",
   "execution_count": 50,
   "metadata": {},
   "outputs": [
    {
     "name": "stdout",
     "output_type": "stream",
     "text": [
      "Enter a string Harjot\n"
     ]
    }
   ],
   "source": [
    "inputz = input(\"Enter a string \")\n",
    "empty = \"\"\n",
    "for character in inputz:\n",
    "    if character.isalpha():\n",
    "        empty += character + \"\\n\"\n",
    "    elif character.lower().startswith(\"h\"):\n",
    "        print(character.upper())\n",
    "    else:\n",
    "        pass\n",
    "    \n",
    "    "
   ]
  },
  {
   "cell_type": "code",
   "execution_count": null,
   "metadata": {},
   "outputs": [],
   "source": []
  },
  {
   "cell_type": "code",
   "execution_count": null,
   "metadata": {},
   "outputs": [],
   "source": []
  }
 ],
 "metadata": {
  "kernelspec": {
   "display_name": "Python 3",
   "language": "python",
   "name": "python3"
  },
  "language_info": {
   "codemirror_mode": {
    "name": "ipython",
    "version": 3
   },
   "file_extension": ".py",
   "mimetype": "text/x-python",
   "name": "python",
   "nbconvert_exporter": "python",
   "pygments_lexer": "ipython3",
   "version": "3.5.4"
  }
 },
 "nbformat": 4,
 "nbformat_minor": 2
}
