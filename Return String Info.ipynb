{
 "cells": [
  {
   "cell_type": "code",
   "execution_count": 4,
   "metadata": {},
   "outputs": [
    {
     "name": "stdout",
     "output_type": "stream",
     "text": [
      "number of characters in string\n",
      "14 \n",
      "\n",
      "letter \"e\" occurrences\n",
      "2 \n",
      "\n",
      "find the index of the first space\n",
      "4 \n",
      "\n",
      "find the index of \"u\" searching a slice work_tip[3:9] - e your\n",
      "7 \n",
      "\n",
      "find the index of \"e\" searching a slice work_tip[4:] -  your code\n",
      "13\n"
     ]
    }
   ],
   "source": [
    "work_tip = \"save your code\"\n",
    "\n",
    "print(\"number of characters in string\")\n",
    "print(len(work_tip),\"\\n\")\n",
    "\n",
    "print('letter \"e\" occurrences')\n",
    "print(work_tip.count(\"e\"),\"\\n\")\n",
    "\n",
    "print(\"find the index of the first space\")\n",
    "print(work_tip.find(\" \"),\"\\n\")\n",
    "\n",
    "print('find the index of \"u\" searching a slice work_tip[3:9] -', work_tip[3:9])\n",
    "print(work_tip.find(\"u\",3,9),\"\\n\")\n",
    "\n",
    "print('find the index of \"e\" searching a slice work_tip[4:] -', work_tip[4:])\n",
    "print(work_tip.find(\"e\",4))"
   ]
  },
  {
   "cell_type": "code",
   "execution_count": 5,
   "metadata": {},
   "outputs": [
    {
     "name": "stdout",
     "output_type": "stream",
     "text": [
      "The sentence: \"good code is commented code\" has character length =  27\n"
     ]
    }
   ],
   "source": [
    "work_tip = \"good code is commented code\"\n",
    "print(\"The sentence: \\\"\" + work_tip + \"\\\" has character length = \", len(work_tip) )"
   ]
  },
  {
   "cell_type": "code",
   "execution_count": 8,
   "metadata": {},
   "outputs": [
    {
     "name": "stdout",
     "output_type": "stream",
     "text": [
      "good code is \n",
      "commented code\n"
     ]
    }
   ],
   "source": [
    "work_tip = \"good code is commented code\"\n",
    "mid_pt = int(len(work_tip)/2)\n",
    "print(work_tip[:mid_pt])\n",
    "print(work_tip[mid_pt:])\n"
   ]
  },
  {
   "cell_type": "code",
   "execution_count": 9,
   "metadata": {},
   "outputs": [
    {
     "name": "stdout",
     "output_type": "stream",
     "text": [
      "good code is commented code\n",
      "how many w's?  0\n",
      "how many o's?  5\n",
      "uses 'code', how many times?  2\n",
      "good code is \n",
      "# o's in first half\n",
      "3\n",
      "\n",
      "commented code\n",
      "# o's in second half\n",
      "2\n"
     ]
    }
   ],
   "source": [
    "# [ ] review and run example\n",
    "print(work_tip)\n",
    "print(\"how many w's? \", work_tip.count(\"w\"))\n",
    "print(\"how many o's? \", work_tip.count(\"o\"))\n",
    "print(\"uses 'code', how many times? \", work_tip.count(\"code\"))\n",
    "# [ ] review and run example \n",
    "print(work_tip[:mid_pt])\n",
    "print(\"# o's in first half\")\n",
    "print(work_tip[:mid_pt].count(\"o\"))\n",
    "\n",
    "print()\n",
    "print(work_tip[mid_pt:])\n",
    "print(\"# o's in second half\")\n",
    "print(work_tip[mid_pt:].count(\"o\"))\n"
   ]
  },
  {
   "cell_type": "code",
   "execution_count": 10,
   "metadata": {},
   "outputs": [
    {
     "name": "stdout",
     "output_type": "stream",
     "text": [
      "good code has meaningful variable names\n",
      "5 = starting index for \"code\"\n",
      "search for \"meaning\" in the sub-string:  meaningful variable \n",
      "\n",
      "\"meaning\" found in work_tip[13:33] sub-string search at index 14\n",
      "work_tip: good code has meaningful variable names\n",
      "'o' at index = 1\n",
      "'o' at index = 2\n",
      "'o' at index = 6\n",
      "no more o's\n"
     ]
    }
   ],
   "source": [
    "# [ ] review and run example \n",
    "work_tip = \"good code has meaningful variable names\"\n",
    "print(work_tip)\n",
    "# index where first instance of \"code\" starts\n",
    "code_here = work_tip.find(\"code\")\n",
    "print(code_here, '= starting index for \"code\"')\n",
    "# [ ] review and run example \n",
    "# set start index = 13 and end index = 33\n",
    "print('search for \"meaning\" in the sub-string:', work_tip[13:33],\"\\n\")\n",
    "meaning_here = work_tip.find(\"meaning\",13,33)\n",
    "print('\"meaning\" found in work_tip[13:33] sub-string search at index', meaning_here)\n",
    "# [ ] review and run example \n",
    "# if .find(\"o\") has No Match, -1 is returned\n",
    "print (\"work_tip:\" , work_tip)\n",
    "location = work_tip.find(\"o\")\n",
    "\n",
    "# keeps looping until location = -1 (no \"o\" found)\n",
    "while location >= 0:\n",
    "    print(\"'o' at index =\", location)\n",
    "    # find(\"o\", location + 1) looks for a \"o\" after index the first \"o\" was found\n",
    "    location = work_tip.find(\"o\", location + 1)\n",
    "print(\"no more o's\")"
   ]
  },
  {
   "cell_type": "code",
   "execution_count": 16,
   "metadata": {},
   "outputs": [
    {
     "name": "stdout",
     "output_type": "stream",
     "text": [
      "wear a hat w\n",
      "hen it rains\n",
      "Number of 'e's : 2\n",
      "Number of 'a's : 4\n",
      "'a's are the most frequent\n"
     ]
    }
   ],
   "source": [
    "random_tip = \"wear a hat when it rains\"\n",
    "mid_pt = int(len(random_tip)/2)\n",
    "print(random_tip[:mid_pt])\n",
    "print(random_tip[mid_pt:])\n",
    "print(\"Number of 'e\\'s :\",random_tip.count(\"e\"))\n",
    "print(\"Number of 'a\\'s :\",random_tip.count(\"a\"))\n",
    "if random_tip.count(\"e\") > random_tip.count(\"a\"):\n",
    "    print(\"'e\\'s are the most frequent\")\n",
    "elif random_tip.count(\"e\") == random_tip.count(\"a\"):\n",
    "    print(\"'a\\'s and 'e\\'s are equally frequent\")\n",
    "else: \n",
    "    print(\"'a\\'s are the most frequent\")"
   ]
  },
  {
   "cell_type": "code",
   "execution_count": 18,
   "metadata": {},
   "outputs": [
    {
     "name": "stdout",
     "output_type": "stream",
     "text": [
      "taposit\n"
     ]
    }
   ],
   "source": [
    "long_word = \"juxtaposition\"\n",
    "print(long_word[3:10])"
   ]
  },
  {
   "cell_type": "code",
   "execution_count": 1,
   "metadata": {},
   "outputs": [
    {
     "name": "stdout",
     "output_type": "stream",
     "text": [
      "they\n",
      "stumble\n",
      "who\n",
      "run\n",
      "fast\n",
      "they\n",
      "stumble\n",
      "who\n",
      "run\n",
      "fast\n"
     ]
    }
   ],
   "source": [
    "quote = \"they stumble who run fast\"\n",
    "#Use this split command which detects spaces as separations \n",
    "for word in quote.split():\n",
    "    print(word)\n",
    "#Or use the generic method of using while loop\n",
    "start = 0\n",
    "space_index = quote.find(\" \")\n",
    "while space_index != 1:\n",
    "    print(quote[start:space_index])\n",
    "    start = space_index + 1\n",
    "    space_index = quote.find(\" \",start)\n",
    "    if space_index == -1:\n",
    "        print(quote[start:])\n",
    "        break\n",
    "\n",
    "    \n",
    "    \n"
   ]
  }
 ],
 "metadata": {
  "kernelspec": {
   "display_name": "Python 3",
   "language": "python",
   "name": "python3"
  },
  "language_info": {
   "codemirror_mode": {
    "name": "ipython",
    "version": 3
   },
   "file_extension": ".py",
   "mimetype": "text/x-python",
   "name": "python",
   "nbconvert_exporter": "python",
   "pygments_lexer": "ipython3",
   "version": "3.5.4"
  }
 },
 "nbformat": 4,
 "nbformat_minor": 2
}
