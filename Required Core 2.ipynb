{
 "cells": [
  {
   "cell_type": "code",
   "execution_count": 4,
   "metadata": {},
   "outputs": [
    {
     "ename": "SyntaxError",
     "evalue": "invalid syntax (<ipython-input-4-10f452ed77ab>, line 35)",
     "output_type": "error",
     "traceback": [
      "\u001b[0;36m  File \u001b[0;32m\"<ipython-input-4-10f452ed77ab>\"\u001b[0;36m, line \u001b[0;32m35\u001b[0m\n\u001b[0;31m    except None:\u001b[0m\n\u001b[0m         ^\u001b[0m\n\u001b[0;31mSyntaxError\u001b[0m\u001b[0;31m:\u001b[0m invalid syntax\n"
     ]
    }
   ],
   "source": [
    "a = [\"horse\",\"cat\",\"dog\",\"panda\"]\n",
    "\n",
    "def lisp(s):\n",
    "    counter = 0\n",
    "    if s != \"\":\n",
    "        if s.isalpha():\n",
    "            for word in a:\n",
    "                if word.lower() == s.lower():\n",
    "                    a.remove(word)\n",
    "                    counter += 1\n",
    "                    print(word,\"is removed\")\n",
    "                    return a\n",
    "                else:\n",
    "                    pass\n",
    "            if counter == 0:\n",
    "                a.append(s)\n",
    "                print(s,\"is appended\")\n",
    "                return a\n",
    "        else:\n",
    "            print(\"Invalid output, try again\")\n",
    "    else:\n",
    "        k = a.pop()\n",
    "        print(k,\"is popped\")\n",
    "        while a:\n",
    "            return a\n",
    "    \n",
    "while a:\n",
    "    n = input(\"Enter an animal or 'quit' \").lower()\n",
    "    if n.lower() != \"quit\":\n",
    "        p = lisp(n)\n",
    "        print(p)\n",
    "    elif n.lower() == \"quit\":\n",
    "        print(a)\n",
    "        break\n",
    "    else:\n",
    "        print(\"List is empty\")\n",
    "\n",
    "if a == []:\n",
    "    print(\"List is empty\")\n",
    "\n"
   ]
  }
 ],
 "metadata": {
  "kernelspec": {
   "display_name": "Python 3",
   "language": "python",
   "name": "python3"
  },
  "language_info": {
   "codemirror_mode": {
    "name": "ipython",
    "version": 3
   },
   "file_extension": ".py",
   "mimetype": "text/x-python",
   "name": "python",
   "nbconvert_exporter": "python",
   "pygments_lexer": "ipython3",
   "version": "3.5.4"
  }
 },
 "nbformat": 4,
 "nbformat_minor": 2
}
