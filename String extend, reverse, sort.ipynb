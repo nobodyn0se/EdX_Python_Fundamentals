{
 "cells": [
  {
   "cell_type": "markdown",
   "metadata": {},
   "source": [
    "# String Extend"
   ]
  },
  {
   "cell_type": "code",
   "execution_count": 17,
   "metadata": {},
   "outputs": [
    {
     "name": "stdout",
     "output_type": "stream",
     "text": [
      "Team A: [0, 2, 2, 2, 4, 4, 4, 5, 6, 6, 6] \n",
      "Team B: [0, 0, 0, 1, 1, 2, 3, 3, 3, 6, 8]\n",
      "Team Totals [0, 2, 2, 2, 4, 4, 4, 5, 6, 6, 6, 0, 0, 0, 1, 1, 2, 3, 3, 3, 6, 8]\n",
      "Team_a extended [0, 2, 2, 2, 4, 4, 4, 5, 6, 6, 6, 0, 0, 0, 1, 1, 2, 3, 3, 3, 6, 8]\n"
     ]
    }
   ],
   "source": [
    "team_a = [0,2,2,2,4,4,4,5,6,6,6]\n",
    "team_b = [0,0,0,1,1,2,3,3,3,6,8]\n",
    "print(\"Team A:\", team_a, \"\\nTeam B:\",team_b)\n",
    "team_totals = team_a + team_b\n",
    "print(\"Team Totals\", team_totals)\n",
    "\n",
    "team_a.extend(team_b)\n",
    "print(\"Team_a extended\", team_a)"
   ]
  },
  {
   "cell_type": "code",
   "execution_count": 26,
   "metadata": {},
   "outputs": [
    {
     "name": "stdout",
     "output_type": "stream",
     "text": [
      "['kingfisher', 'eagle', 'vulture', 'flamingo', 'parakeet', 'parrot']\n",
      "['chicken', 'blue jay', 'crow', 'pigeon', 'kingfisher', 'eagle', 'vulture', 'flamingo', 'parakeet', 'parrot']\n"
     ]
    }
   ],
   "source": [
    "common_birds = [\"chicken\", \"blue jay\", \"crow\", \"pigeon\"]\n",
    "birds = [\"kingfisher\",\"eagle\",\"vulture\",\"flamingo\",\"parakeet\",\"parrot\"]\n",
    "common_birds.extend(birds)\n",
    "print(birds)\n",
    "print(common_birds)"
   ]
  },
  {
   "cell_type": "code",
   "execution_count": 31,
   "metadata": {},
   "outputs": [
    {
     "name": "stdout",
     "output_type": "stream",
     "text": [
      "[1, 2, 3, 4, 5, 6, 7, 8, 9, 10, 20, 30, 40, 50, 60, 70, 80, 90, 100]\n"
     ]
    }
   ],
   "source": [
    "zero_nine = [1,2,3,4,5,6,7,8,9]\n",
    "ten_onehundred = [10,20,30,40,50,60,70,80,90,100]\n",
    "all_num =  zero_nine + ten_onehundred\n",
    "print(all_num)"
   ]
  },
  {
   "cell_type": "markdown",
   "metadata": {},
   "source": [
    "# String Reverse"
   ]
  },
  {
   "cell_type": "code",
   "execution_count": 33,
   "metadata": {},
   "outputs": [
    {
     "name": "stdout",
     "output_type": "stream",
     "text": [
      "regular list [100, 90, 80, 70, 60, 50, 40, 30, 20, 10, 9, 8, 7, 6, 5, 4, 3, 2, 1] \n",
      "\n",
      "reverse list [1, 2, 3, 4, 5, 6, 7, 8, 9, 10, 20, 30, 40, 50, 60, 70, 80, 90, 100] \n",
      "\n",
      "Three Multiple\n",
      "3\n",
      "6\n",
      "9\n",
      "30\n",
      "60\n",
      "90\n"
     ]
    }
   ],
   "source": [
    "print(\"regular list\",all_num, \"\\n\")\n",
    "all_num.reverse()\n",
    "print(\"reverse list\",all_num, \"\\n\")\n",
    "print(\"Three Multiple\")\n",
    "for num in all_num:\n",
    "    if num/3 == int(num/3):\n",
    "        print(num)\n",
    "    else:\n",
    "        pass"
   ]
  },
  {
   "cell_type": "code",
   "execution_count": 34,
   "metadata": {},
   "outputs": [
    {
     "name": "stdout",
     "output_type": "stream",
     "text": [
      "before list [0, 1, 2, 3, 4, 5, 6, 7, 8, 9, 10, 11, 12, 13, 14, 15, 16, 17, 18, 19, 20]\n",
      "after list [20, 19, 18, 17, 16, 15, 14, 13, 12, 11, 10, 9, 8, 7, 6, 5, 4, 3, 2, 1, 0]\n"
     ]
    }
   ],
   "source": [
    "count_list = list(range(21))\n",
    "print(\"before list\", count_list)\n",
    "\n",
    "# and reverse\n",
    "count_list.reverse()\n",
    "print(\"after list\", count_list)"
   ]
  },
  {
   "cell_type": "code",
   "execution_count": 35,
   "metadata": {},
   "outputs": [
    {
     "name": "stdout",
     "output_type": "stream",
     "text": [
      "Initial list [5, 10, 15, 20, 25, 30, 35, 40, 45, 50, 55, 60, 65, 70, 75, 80, 85, 90, 95, 100]\n",
      "Final list [100, 95, 90, 85, 80, 75, 70, 65, 60, 55, 50, 45, 40, 35, 30, 25, 20, 15, 10, 5]\n"
     ]
    }
   ],
   "source": [
    "num = list(range(5,101,5))\n",
    "print(\"Initial list\",num)\n",
    "num.reverse()\n",
    "print(\"Final list\",num)"
   ]
  },
  {
   "cell_type": "code",
   "execution_count": 37,
   "metadata": {},
   "outputs": [
    {
     "name": "stdout",
     "output_type": "stream",
     "text": [
      "fours list [44, 40, 36, 32, 28, 24, 20, 16, 12, 8, 4]\n",
      "more_fours list [4, 8, 12, 16, 20, 24, 28, 32, 36, 40, 44]\n",
      "Before list [44, 40, 36, 32, 28, 24, 20, 16, 12, 8, 4, 4, 8, 12, 16, 20, 24, 28, 32, 36, 40, 44]\n",
      "After list [44, 40, 36, 32, 28, 24, 20, 16, 12, 8, 4, 4, 8, 12, 16, 20, 24, 28, 32, 36, 40, 44]\n"
     ]
    }
   ],
   "source": [
    "fours = list(range(44,3,-4))\n",
    "more_fours = list(range(4,45,4))\n",
    "print(\"fours list\",fours)\n",
    "print(\"more_fours list\",more_fours)\n",
    "fours.extend(more_fours)\n",
    "print(\"Before list\",fours)\n",
    "fours.reverse()\n",
    "print(\"After list\",fours)"
   ]
  },
  {
   "cell_type": "code",
   "execution_count": 38,
   "metadata": {},
   "outputs": [
    {
     "name": "stdout",
     "output_type": "stream",
     "text": [
      "quiz_scores: [15, 18, 18, 18, 19, 19, 20, 20, 20, 20, 20]\n",
      "game_points: [3, 14, 0, 8, 21, 1, 3, 8]\n",
      "sorted_points: [0, 1, 3, 3, 8, 8, 14, 21]\n"
     ]
    }
   ],
   "source": [
    "quiz_scores = [20, 19, 20, 15, 20, 20, 20, 18, 18, 18, 19]\n",
    "quiz_scores.sort()\n",
    "print(\"quiz_scores:\", quiz_scores)\n",
    "game_points = [3, 14, 0, 8, 21, 1, 3, 8]\n",
    "sorted_points = sorted(game_points)\n",
    "\n",
    "print(\"game_points:\", game_points)\n",
    "print(\"sorted_points:\", sorted_points)\n"
   ]
  },
  {
   "cell_type": "code",
   "execution_count": 41,
   "metadata": {},
   "outputs": [
    {
     "name": "stdout",
     "output_type": "stream",
     "text": [
      "Before list ['g', 'G', 'p', 'P', 'a', 'A']\n",
      "Sorted list ['A', 'G', 'P', 'a', 'g', 'p']\n"
     ]
    }
   ],
   "source": [
    "listalpha = [\"g\",\"G\",\"p\",\"P\",\"a\",\"A\"]\n",
    "print(\"Before list\",listalpha)\n",
    "listalpha.sort()\n",
    "print(\"Sorted list\",listalpha)"
   ]
  },
  {
   "cell_type": "code",
   "execution_count": 50,
   "metadata": {},
   "outputs": [
    {
     "name": "stdout",
     "output_type": "stream",
     "text": [
      "Quebec\n",
      "Reykjavik\n",
      "Shanghai\n",
      "São Paulo\n",
      "Toyko\n",
      "No cities found in ['Charlotte', 'Little Rock', 'Milwaukee']\n"
     ]
    }
   ],
   "source": [
    "visited_cities = [\"New York\", \"Shanghai\", \"Munich\", \"Toyko\", \"Dubai\", \"Mexico City\", \"São Paulo\", \"Hyderabad\",\"Quebec\",\"Reykjavik\"]\n",
    "visited_cities.sort()\n",
    "cities = [\"Charlotte\",\"Little Rock\",\"Milwaukee\"]\n",
    "counter = 0\n",
    "for city in visited_cities:\n",
    "    if city >= \"Q\":\n",
    "        print(city)\n",
    "        counter += 1\n",
    "    else:\n",
    "        pass\n",
    "if counter == 0:\n",
    "    print(\"No cities found\")\n",
    "    \n",
    "counter = 0\n",
    "\n",
    "for city in cities:\n",
    "    if city >= \"Q\":\n",
    "        print(city)\n",
    "        counter += 1\n",
    "    else:\n",
    "        pass\n",
    "if counter == 0:\n",
    "    print(\"No cities found in\",cities)"
   ]
  },
  {
   "cell_type": "code",
   "execution_count": 57,
   "metadata": {},
   "outputs": [
    {
     "name": "stdout",
     "output_type": "stream",
     "text": [
      "Enter an animal or leave empty horse\n",
      "Enter an animal or leave empty kangaroo\n",
      "Enter an animal or leave empty leopard\n",
      "Enter an animal or leave empty cheetah\n",
      "Enter an animal or leave empty \n",
      "Initial list ['zebra', 'giraffe', 'rhino', 'cow', 'bison']\n",
      "Final list ['zebra', 'giraffe', 'rhino', 'cow', 'bison', 'horse', 'kangaroo', 'leopard', 'cheetah']\n",
      "Sorted list ['bison', 'cheetah', 'cow', 'giraffe', 'horse', 'kangaroo', 'leopard', 'rhino', 'zebra']\n",
      "Reverse list ['zebra', 'rhino', 'leopard', 'kangaroo', 'horse', 'giraffe', 'cow', 'cheetah', 'bison']\n"
     ]
    }
   ],
   "source": [
    "animals = [\"zebra\",\"giraffe\",\"rhino\",\"cow\",\"bison\"]\n",
    "ani = input(\"Enter an animal or leave empty \")\n",
    "add_animals = []\n",
    "while ani != \"\":\n",
    "    add_animals.append(ani)\n",
    "    ani = input(\"Enter an animal or leave empty \")\n",
    "\n",
    "print(\"Initial list\",animals)\n",
    "animals.extend(add_animals)\n",
    "print(\"Final list\",animals)\n",
    "animals.sort()\n",
    "print(\"Sorted list\",animals)\n",
    "animals.reverse()\n",
    "print(\"Reverse list\",animals)"
   ]
  },
  {
   "cell_type": "code",
   "execution_count": null,
   "metadata": {},
   "outputs": [],
   "source": []
  }
 ],
 "metadata": {
  "kernelspec": {
   "display_name": "Python 3",
   "language": "python",
   "name": "python3"
  },
  "language_info": {
   "codemirror_mode": {
    "name": "ipython",
    "version": 3
   },
   "file_extension": ".py",
   "mimetype": "text/x-python",
   "name": "python",
   "nbconvert_exporter": "python",
   "pygments_lexer": "ipython3",
   "version": "3.5.4"
  }
 },
 "nbformat": 4,
 "nbformat_minor": 2
}
